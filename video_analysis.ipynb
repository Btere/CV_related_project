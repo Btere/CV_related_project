{
  "nbformat": 4,
  "nbformat_minor": 0,
  "metadata": {
    "colab": {
      "provenance": [],
      "mount_file_id": "1GbMEsogNQEwhNCG0zhvX2swoMnkHXiPf",
      "authorship_tag": "ABX9TyOpWuNQPKIBDEkbqEz9or2G",
      "include_colab_link": true
    },
    "kernelspec": {
      "name": "python3",
      "display_name": "Python 3"
    },
    "language_info": {
      "name": "python"
    }
  },
  "cells": [
    {
      "cell_type": "markdown",
      "metadata": {
        "id": "view-in-github",
        "colab_type": "text"
      },
      "source": [
        "<a href=\"https://colab.research.google.com/github/Btere/CV_related_project/blob/main/video_analysis.ipynb\" target=\"_parent\"><img src=\"https://colab.research.google.com/assets/colab-badge.svg\" alt=\"Open In Colab\"/></a>"
      ]
    },
    {
      "cell_type": "code",
      "execution_count": null,
      "metadata": {
        "id": "hrD67phcp2bk"
      },
      "outputs": [],
      "source": [
        "from pathlib import Path\n",
        "import matplotlib.pyplot as plt\n",
        "\n",
        "import cv2"
      ]
    },
    {
      "cell_type": "code",
      "source": [
        "image_path = Path(\"/content/drive/MyDrive/CV_Photo(n.).jpeg\")\n",
        "\n",
        "print(image_path)"
      ],
      "metadata": {
        "id": "xg1KhOrcp8gk"
      },
      "execution_count": null,
      "outputs": []
    },
    {
      "cell_type": "code",
      "source": [
        "img = cv2.imread(image_path)\n",
        "print(img.shape)"
      ],
      "metadata": {
        "id": "RRn_9mrbp8kw"
      },
      "execution_count": null,
      "outputs": []
    },
    {
      "cell_type": "code",
      "source": [
        "# Show image\n",
        "plt.imshow(img)"
      ],
      "metadata": {
        "id": "pQexmQyrp8mD"
      },
      "execution_count": null,
      "outputs": []
    },
    {
      "cell_type": "code",
      "source": [
        "# opencv uses a default colour for images-- BGR, so we need to transform it to RGB\n",
        "\n",
        "img = cv2.cvtColor(img, cv2.COLOR_BGR2RGB)\n",
        "plt.imshow(img)"
      ],
      "metadata": {
        "id": "dLXcpZ4lp8n4"
      },
      "execution_count": null,
      "outputs": []
    },
    {
      "cell_type": "code",
      "source": [
        "gray = cv2.cvtColor(img, cv2.COLOR_BGR2GRAY)\n",
        "plt.imshow(gray)"
      ],
      "metadata": {
        "id": "TXPF_k2-p8qV"
      },
      "execution_count": null,
      "outputs": []
    },
    {
      "cell_type": "code",
      "source": [
        "#working with video\n",
        "\n",
        "video_path = Path(\"/content/drive/MyDrive/VID-20240804-WA0000.mp4\")\n"
      ],
      "metadata": {
        "id": "zBKTPqctp8sG"
      },
      "execution_count": null,
      "outputs": []
    },
    {
      "cell_type": "code",
      "source": [
        "cap = cv2.VideoCapture((video_path)) #capture the video"
      ],
      "metadata": {
        "id": "F5SdnJd7QunO"
      },
      "execution_count": null,
      "outputs": []
    },
    {
      "cell_type": "code",
      "source": [
        "ret, frame = cap.read() #grab a frame\n",
        "print(frame.shape)"
      ],
      "metadata": {
        "id": "2Cp8NK40QulP"
      },
      "execution_count": null,
      "outputs": []
    },
    {
      "cell_type": "code",
      "source": [
        "print(cap.get(cv2.CAP_PROP_FRAME_WIDTH))\n",
        "print(cap.get(cv2.CAP_PROP_FRAME_HEIGHT))\n",
        "print(f\"This is the number of frames/images in the video: {cap.get(cv2.CAP_PROP_FRAME_COUNT)}\")\n",
        "print(cap.get(cv2.CAP_PROP_FPS)) # time each frame per second plays."
      ],
      "metadata": {
        "id": "ZZcjdifOQudk"
      },
      "execution_count": null,
      "outputs": []
    },
    {
      "cell_type": "code",
      "source": [
        "5687.0 / 29.99 #give me the length of the vide"
      ],
      "metadata": {
        "id": "qNKdslqvlJ_z"
      },
      "execution_count": null,
      "outputs": []
    },
    {
      "cell_type": "code",
      "source": [
        "# visualize the image\n",
        "plt.imshow(cv2.cvtColor(frame, cv2.COLOR_BGR2RGB))\n",
        "plt.show()"
      ],
      "metadata": {
        "id": "3RdHLEmJSRzH"
      },
      "execution_count": null,
      "outputs": []
    },
    {
      "cell_type": "code",
      "source": [
        "# get the total number of frame in the videos\n",
        "\n",
        "def show_frame():\n",
        "  cap = cv2.VideoCapture(video_path)\n",
        "  # loop through each frame in the video\n",
        "  for frame_no in range(int(cap.get(cv2.CAP_PROP_FRAME_COUNT))):\n",
        "    ret, frame = cap.read()\n",
        "      # Show image\n",
        "    cv2.imshow('Video Player', gray)\n",
        "\n",
        "    # Breaking out of the loop\n",
        "    if cv2.waitKey(10) & 0xFF == ord('q'):\n",
        "        break\n",
        "        frame = cv2.cvtColor(frame, cv2.COLOR_BGR2RGB)\n",
        "\n",
        "# Close down everything\n",
        "cap.release()\n",
        "cv2.destroyAllWindows()\n",
        ""
      ],
      "metadata": {
        "id": "a4C1mL_VSRxB"
      },
      "execution_count": null,
      "outputs": []
    },
    {
      "cell_type": "code",
      "source": [
        "\n"
      ],
      "metadata": {
        "id": "eZeSZ3mwSRe1"
      },
      "execution_count": null,
      "outputs": []
    },
    {
      "cell_type": "code",
      "source": [
        "from google.colab.patches import cv2_imshow\n",
        "\n",
        "# Establish capture\n",
        "cap = cv2.VideoCapture(\"/content/drive/MyDrive/VID-20240804-WA0000.mp4\")\n",
        "# Loop through each frame\n",
        "for frame_idx in range(int(cap.get(cv2.CAP_PROP_FRAME_COUNT))):\n",
        "\n",
        "    # Read frame\n",
        "    ret, frame = cap.read()\n",
        "\n",
        "    # Gray transform\n",
        "    #gray = cv2.cvtColor(frame, cv2.COLOR_BGR2GRAY)\n",
        "\n",
        "    # Show image\n",
        "    #cv2.imshow('Video Player', gray)\n",
        "    cv2_imshow(frame)\n",
        "\n",
        "    # Breaking out of the loop\n",
        "    if cv2.waitKey(10) & 0xFF == ord('q'):\n",
        "        break\n",
        "\n",
        "# Close down everything\n",
        "cap.release()\n",
        "cv2.destroyAllWindows()"
      ],
      "metadata": {
        "id": "IETKz3S0RUTl"
      },
      "execution_count": null,
      "outputs": []
    },
    {
      "cell_type": "code",
      "source": [],
      "metadata": {
        "id": "rrttPpMpRUMT"
      },
      "execution_count": null,
      "outputs": []
    },
    {
      "cell_type": "code",
      "source": [],
      "metadata": {
        "id": "XuG9JDVrRUHT"
      },
      "execution_count": null,
      "outputs": []
    },
    {
      "cell_type": "code",
      "source": [],
      "metadata": {
        "id": "aMM74RegRUDL"
      },
      "execution_count": null,
      "outputs": []
    },
    {
      "cell_type": "code",
      "source": [],
      "metadata": {
        "id": "U2gyG7uhRT_A"
      },
      "execution_count": null,
      "outputs": []
    },
    {
      "cell_type": "code",
      "source": [],
      "metadata": {
        "id": "wrB1uZPhRT6Q"
      },
      "execution_count": null,
      "outputs": []
    },
    {
      "cell_type": "code",
      "source": [],
      "metadata": {
        "id": "0PMO4-GIRT25"
      },
      "execution_count": null,
      "outputs": []
    }
  ]
}